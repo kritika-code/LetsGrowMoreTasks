{
 "cells": [
  {
   "cell_type": "markdown",
   "id": "f4800a30",
   "metadata": {},
   "source": [
    "# Task - 2 Beginner Level Task"
   ]
  },
  {
   "cell_type": "markdown",
   "id": "b964a571",
   "metadata": {},
   "source": [
    "# Stock Market Prediction And Forecasting Using Stacked LSTM"
   ]
  },
  {
   "cell_type": "code",
   "execution_count": 1,
   "id": "55a8ab76",
   "metadata": {},
   "outputs": [],
   "source": [
    "import numpy as np\n",
    "import pandas as pd\n",
    "import matplotlib.pyplot as plt\n",
    "from sklearn.preprocessing import MinMaxScaler\n",
    "import math\n",
    "from sklearn.metrics import mean_squared_error\n",
    "from tensorflow.keras.models import Sequential\n",
    "from tensorflow.keras.layers import Dense\n",
    "from tensorflow.keras.layers import LSTM"
   ]
  },
  {
   "cell_type": "code",
   "execution_count": 2,
   "id": "e107f4b1",
   "metadata": {},
   "outputs": [],
   "source": [
    "df = pd.read_csv(\"https://raw.githubusercontent.com/mwitiderrick/stockprice/master/NSE-TATAGLOBAL.csv\")"
   ]
  },
  {
   "cell_type": "code",
   "execution_count": 3,
   "id": "49e5b899",
   "metadata": {},
   "outputs": [
    {
     "data": {
      "text/html": [
       "<div>\n",
       "<style scoped>\n",
       "    .dataframe tbody tr th:only-of-type {\n",
       "        vertical-align: middle;\n",
       "    }\n",
       "\n",
       "    .dataframe tbody tr th {\n",
       "        vertical-align: top;\n",
       "    }\n",
       "\n",
       "    .dataframe thead th {\n",
       "        text-align: right;\n",
       "    }\n",
       "</style>\n",
       "<table border=\"1\" class=\"dataframe\">\n",
       "  <thead>\n",
       "    <tr style=\"text-align: right;\">\n",
       "      <th></th>\n",
       "      <th>Date</th>\n",
       "      <th>Open</th>\n",
       "      <th>High</th>\n",
       "      <th>Low</th>\n",
       "      <th>Last</th>\n",
       "      <th>Close</th>\n",
       "      <th>Total Trade Quantity</th>\n",
       "      <th>Turnover (Lacs)</th>\n",
       "    </tr>\n",
       "  </thead>\n",
       "  <tbody>\n",
       "    <tr>\n",
       "      <th>0</th>\n",
       "      <td>2018-09-28</td>\n",
       "      <td>234.05</td>\n",
       "      <td>235.95</td>\n",
       "      <td>230.20</td>\n",
       "      <td>233.50</td>\n",
       "      <td>233.75</td>\n",
       "      <td>3069914</td>\n",
       "      <td>7162.35</td>\n",
       "    </tr>\n",
       "    <tr>\n",
       "      <th>1</th>\n",
       "      <td>2018-09-27</td>\n",
       "      <td>234.55</td>\n",
       "      <td>236.80</td>\n",
       "      <td>231.10</td>\n",
       "      <td>233.80</td>\n",
       "      <td>233.25</td>\n",
       "      <td>5082859</td>\n",
       "      <td>11859.95</td>\n",
       "    </tr>\n",
       "    <tr>\n",
       "      <th>2</th>\n",
       "      <td>2018-09-26</td>\n",
       "      <td>240.00</td>\n",
       "      <td>240.00</td>\n",
       "      <td>232.50</td>\n",
       "      <td>235.00</td>\n",
       "      <td>234.25</td>\n",
       "      <td>2240909</td>\n",
       "      <td>5248.60</td>\n",
       "    </tr>\n",
       "    <tr>\n",
       "      <th>3</th>\n",
       "      <td>2018-09-25</td>\n",
       "      <td>233.30</td>\n",
       "      <td>236.75</td>\n",
       "      <td>232.00</td>\n",
       "      <td>236.25</td>\n",
       "      <td>236.10</td>\n",
       "      <td>2349368</td>\n",
       "      <td>5503.90</td>\n",
       "    </tr>\n",
       "    <tr>\n",
       "      <th>4</th>\n",
       "      <td>2018-09-24</td>\n",
       "      <td>233.55</td>\n",
       "      <td>239.20</td>\n",
       "      <td>230.75</td>\n",
       "      <td>234.00</td>\n",
       "      <td>233.30</td>\n",
       "      <td>3423509</td>\n",
       "      <td>7999.55</td>\n",
       "    </tr>\n",
       "    <tr>\n",
       "      <th>...</th>\n",
       "      <td>...</td>\n",
       "      <td>...</td>\n",
       "      <td>...</td>\n",
       "      <td>...</td>\n",
       "      <td>...</td>\n",
       "      <td>...</td>\n",
       "      <td>...</td>\n",
       "      <td>...</td>\n",
       "    </tr>\n",
       "    <tr>\n",
       "      <th>2030</th>\n",
       "      <td>2010-07-27</td>\n",
       "      <td>117.60</td>\n",
       "      <td>119.50</td>\n",
       "      <td>112.00</td>\n",
       "      <td>118.80</td>\n",
       "      <td>118.65</td>\n",
       "      <td>586100</td>\n",
       "      <td>694.98</td>\n",
       "    </tr>\n",
       "    <tr>\n",
       "      <th>2031</th>\n",
       "      <td>2010-07-26</td>\n",
       "      <td>120.10</td>\n",
       "      <td>121.00</td>\n",
       "      <td>117.10</td>\n",
       "      <td>117.10</td>\n",
       "      <td>117.60</td>\n",
       "      <td>658440</td>\n",
       "      <td>780.01</td>\n",
       "    </tr>\n",
       "    <tr>\n",
       "      <th>2032</th>\n",
       "      <td>2010-07-23</td>\n",
       "      <td>121.80</td>\n",
       "      <td>121.95</td>\n",
       "      <td>120.25</td>\n",
       "      <td>120.35</td>\n",
       "      <td>120.65</td>\n",
       "      <td>281312</td>\n",
       "      <td>340.31</td>\n",
       "    </tr>\n",
       "    <tr>\n",
       "      <th>2033</th>\n",
       "      <td>2010-07-22</td>\n",
       "      <td>120.30</td>\n",
       "      <td>122.00</td>\n",
       "      <td>120.25</td>\n",
       "      <td>120.75</td>\n",
       "      <td>120.90</td>\n",
       "      <td>293312</td>\n",
       "      <td>355.17</td>\n",
       "    </tr>\n",
       "    <tr>\n",
       "      <th>2034</th>\n",
       "      <td>2010-07-21</td>\n",
       "      <td>122.10</td>\n",
       "      <td>123.00</td>\n",
       "      <td>121.05</td>\n",
       "      <td>121.10</td>\n",
       "      <td>121.55</td>\n",
       "      <td>658666</td>\n",
       "      <td>803.56</td>\n",
       "    </tr>\n",
       "  </tbody>\n",
       "</table>\n",
       "<p>2035 rows × 8 columns</p>\n",
       "</div>"
      ],
      "text/plain": [
       "            Date    Open    High     Low    Last   Close  \\\n",
       "0     2018-09-28  234.05  235.95  230.20  233.50  233.75   \n",
       "1     2018-09-27  234.55  236.80  231.10  233.80  233.25   \n",
       "2     2018-09-26  240.00  240.00  232.50  235.00  234.25   \n",
       "3     2018-09-25  233.30  236.75  232.00  236.25  236.10   \n",
       "4     2018-09-24  233.55  239.20  230.75  234.00  233.30   \n",
       "...          ...     ...     ...     ...     ...     ...   \n",
       "2030  2010-07-27  117.60  119.50  112.00  118.80  118.65   \n",
       "2031  2010-07-26  120.10  121.00  117.10  117.10  117.60   \n",
       "2032  2010-07-23  121.80  121.95  120.25  120.35  120.65   \n",
       "2033  2010-07-22  120.30  122.00  120.25  120.75  120.90   \n",
       "2034  2010-07-21  122.10  123.00  121.05  121.10  121.55   \n",
       "\n",
       "      Total Trade Quantity  Turnover (Lacs)  \n",
       "0                  3069914          7162.35  \n",
       "1                  5082859         11859.95  \n",
       "2                  2240909          5248.60  \n",
       "3                  2349368          5503.90  \n",
       "4                  3423509          7999.55  \n",
       "...                    ...              ...  \n",
       "2030                586100           694.98  \n",
       "2031                658440           780.01  \n",
       "2032                281312           340.31  \n",
       "2033                293312           355.17  \n",
       "2034                658666           803.56  \n",
       "\n",
       "[2035 rows x 8 columns]"
      ]
     },
     "execution_count": 3,
     "metadata": {},
     "output_type": "execute_result"
    }
   ],
   "source": [
    "df"
   ]
  },
  {
   "cell_type": "code",
   "execution_count": 4,
   "id": "42e8699f",
   "metadata": {},
   "outputs": [],
   "source": [
    "df1=df.reset_index()['Close']"
   ]
  },
  {
   "cell_type": "code",
   "execution_count": 5,
   "id": "427600a8",
   "metadata": {},
   "outputs": [
    {
     "data": {
      "text/plain": [
       "0       233.75\n",
       "1       233.25\n",
       "2       234.25\n",
       "3       236.10\n",
       "4       233.30\n",
       "         ...  \n",
       "2030    118.65\n",
       "2031    117.60\n",
       "2032    120.65\n",
       "2033    120.90\n",
       "2034    121.55\n",
       "Name: Close, Length: 2035, dtype: float64"
      ]
     },
     "execution_count": 5,
     "metadata": {},
     "output_type": "execute_result"
    }
   ],
   "source": [
    "df1"
   ]
  },
  {
   "cell_type": "code",
   "execution_count": 6,
   "id": "8168ad6d",
   "metadata": {},
   "outputs": [
    {
     "data": {
      "text/plain": [
       "[<matplotlib.lines.Line2D at 0x1b386480370>]"
      ]
     },
     "execution_count": 6,
     "metadata": {},
     "output_type": "execute_result"
    },
    {
     "data": {
      "image/png": "[encoded data removed]",
      "text/plain": [
       "<Figure size 432x288 with 1 Axes>"
      ]
     },
     "metadata": {
      "needs_background": "light"
     },
     "output_type": "display_data"
    }
   ],
   "source": [
    "plt.plot(df1)"
   ]
  },
  {
   "cell_type": "markdown",
   "id": "ee96b8d2",
   "metadata": {},
   "source": [
    "LSTM is very sensitive to the scale of the data, Here the scale of the Close value is in a kind of scale, we should always try to transform the value."
   ]
  },
  {
   "cell_type": "code",
   "execution_count": 7,
   "id": "1ce113fb",
   "metadata": {},
   "outputs": [],
   "source": [
    "scaler = MinMaxScaler(feature_range=(0,1))\n",
    "df1=scaler.fit_transform(np.array(df1).reshape(-1,1))"
   ]
  },
  {
   "cell_type": "code",
   "execution_count": 8,
   "id": "a6bc63f0",
   "metadata": {},
   "outputs": [
    {
     "name": "stdout",
     "output_type": "stream",
     "text": [
      "[[0.62418301]\n",
      " [0.62214052]\n",
      " [0.62622549]\n",
      " ...\n",
      " [0.1621732 ]\n",
      " [0.16319444]\n",
      " [0.16584967]]\n"
     ]
    }
   ],
   "source": [
    "print(df1)"
   ]
  },
  {
   "cell_type": "code",
   "execution_count": 9,
   "id": "4c8821ee",
   "metadata": {},
   "outputs": [],
   "source": [
    "##splitting dataset into train and test split\n",
    "training_size=int(len(df1)*0.65)\n",
    "test_size=len(df1)-training_size\n",
    "train_data,test_data=df1[0:training_size,:],df1[training_size:len(df1),:1]"
   ]
  },
  {
   "cell_type": "code",
   "execution_count": 10,
   "id": "d41ef943",
   "metadata": {},
   "outputs": [
    {
     "data": {
      "text/plain": [
       "(1322, 713)"
      ]
     },
     "execution_count": 10,
     "metadata": {},
     "output_type": "execute_result"
    }
   ],
   "source": [
    "training_size,test_size"
   ]
  },
  {
   "cell_type": "markdown",
   "id": "8310a5a1",
   "metadata": {},
   "source": [
    "Create dataset"
   ]
  },
  {
   "cell_type": "code",
   "execution_count": 11,
   "id": "09a73546",
   "metadata": {},
   "outputs": [],
   "source": [
    "def create_dataset(dataset,time_step=1):\n",
    "    dataX, dataY = [], []\n",
    "    for i in range(len(dataset)-time_step-1):\n",
    "        a = dataset[i:(i+time_step), 0]   ###i=0, 0,1,2,3-----99   100 \n",
    "        dataX.append(a)\n",
    "        dataY.append(dataset[i + time_step, 0])\n",
    "    return np.array(dataX), np.array(dataY)"
   ]
  },
  {
   "cell_type": "code",
   "execution_count": 12,
   "id": "b87602b0",
   "metadata": {},
   "outputs": [],
   "source": [
    "# reshape into X=t,t+1,t+2,t+3 and Y=t+4\n",
    "time_step = 100\n",
    "x_train, y_train = create_dataset(train_data, time_step)\n",
    "x_test, y_test = create_dataset(test_data, time_step)"
   ]
  },
  {
   "cell_type": "code",
   "execution_count": 13,
   "id": "f3cc8d49",
   "metadata": {},
   "outputs": [
    {
     "name": "stdout",
     "output_type": "stream",
     "text": [
      "(1221, 100) (1221,)\n"
     ]
    }
   ],
   "source": [
    "print(x_train.shape,y_train.shape)"
   ]
  },
  {
   "cell_type": "code",
   "execution_count": 14,
   "id": "5d271aa1",
   "metadata": {},
   "outputs": [
    {
     "name": "stdout",
     "output_type": "stream",
     "text": [
      "(612, 100) (612,)\n"
     ]
    }
   ],
   "source": [
    "print(x_test.shape,y_test.shape)"
   ]
  },
  {
   "cell_type": "markdown",
   "id": "5012473b",
   "metadata": {},
   "source": [
    "While Implementing any LSTM, we should always reshape our X train in 3-D, add 1 the reason behind is the time step and the 1 is given to the LSTM."
   ]
  },
  {
   "cell_type": "code",
   "execution_count": 15,
   "id": "0ea9edff",
   "metadata": {},
   "outputs": [],
   "source": [
    "x_train = x_train.reshape(x_train.shape[0],x_train.shape[1] , 1)\n",
    "x_test = x_test.reshape(x_test.shape[0],x_test.shape[1] , 1)"
   ]
  },
  {
   "cell_type": "code",
   "execution_count": 16,
   "id": "481b4a3b",
   "metadata": {},
   "outputs": [],
   "source": [
    "model = Sequential()\n",
    "model.add(LSTM(50,return_sequences=True,input_shape=(100,1)))\n",
    "model.add(LSTM(50,return_sequences=True))\n",
    "model.add(LSTM(50))\n",
    "model.add(Dense(1))\n",
    "model.compile(loss='mean_squared_error',optimizer='adam')"
   ]
  },
  {
   "cell_type": "code",
   "execution_count": 17,
   "id": "70728279",
   "metadata": {
    "scrolled": true
   },
   "outputs": [
    {
     "name": "stdout",
     "output_type": "stream",
     "text": [
      "Model: \"sequential\"\n",
      "_________________________________________________________________\n",
      "Layer (type)                 Output Shape              Param #   \n",
      "=================================================================\n",
      "lstm (LSTM)                  (None, 100, 50)           10400     \n",
      "_________________________________________________________________\n",
      "lstm_1 (LSTM)                (None, 100, 50)           20200     \n",
      "_________________________________________________________________\n",
      "lstm_2 (LSTM)                (None, 50)                20200     \n",
      "_________________________________________________________________\n",
      "dense (Dense)                (None, 1)                 51        \n",
      "=================================================================\n",
      "Total params: 50,851\n",
      "Trainable params: 50,851\n",
      "Non-trainable params: 0\n",
      "_________________________________________________________________\n"
     ]
    }
   ],
   "source": [
    "model.summary()"
   ]
  },
  {
   "cell_type": "code",
   "execution_count": 18,
   "id": "63809932",
   "metadata": {
    "scrolled": true
   },
   "outputs": [
    {
     "name": "stdout",
     "output_type": "stream",
     "text": [
      "Epoch 1/100\n",
      "20/20 [==============================] - 11s 316ms/step - loss: 0.0288 - val_loss: 0.0029\n",
      "Epoch 2/100\n",
      "20/20 [==============================] - 5s 262ms/step - loss: 0.0030 - val_loss: 0.0013\n",
      "Epoch 3/100\n",
      "20/20 [==============================] - 5s 226ms/step - loss: 0.0018 - val_loss: 9.4434e-04\n",
      "Epoch 4/100\n",
      "20/20 [==============================] - 6s 280ms/step - loss: 0.0017 - val_loss: 0.0010\n",
      "Epoch 5/100\n",
      "20/20 [==============================] - 5s 279ms/step - loss: 0.0018 - val_loss: 0.0011\n",
      "Epoch 6/100\n",
      "20/20 [==============================] - 7s 333ms/step - loss: 0.0015 - val_loss: 0.0012\n",
      "Epoch 7/100\n",
      "20/20 [==============================] - 6s 289ms/step - loss: 0.0015 - val_loss: 0.0012\n",
      "Epoch 8/100\n",
      "20/20 [==============================] - 5s 253ms/step - loss: 0.0014 - val_loss: 0.0012\n",
      "Epoch 9/100\n",
      "20/20 [==============================] - 6s 299ms/step - loss: 0.0014 - val_loss: 0.0017\n",
      "Epoch 10/100\n",
      "20/20 [==============================] - 7s 340ms/step - loss: 0.0014 - val_loss: 0.0013\n",
      "Epoch 11/100\n",
      "20/20 [==============================] - 5s 270ms/step - loss: 0.0015 - val_loss: 0.0011\n",
      "Epoch 12/100\n",
      "20/20 [==============================] - 6s 328ms/step - loss: 0.0012 - val_loss: 9.5061e-04\n",
      "Epoch 13/100\n",
      "20/20 [==============================] - 6s 298ms/step - loss: 0.0011 - val_loss: 8.8124e-04\n",
      "Epoch 14/100\n",
      "20/20 [==============================] - 6s 274ms/step - loss: 0.0013 - val_loss: 9.1077e-04\n",
      "Epoch 15/100\n",
      "20/20 [==============================] - 6s 282ms/step - loss: 0.0012 - val_loss: 0.0014\n",
      "Epoch 16/100\n",
      "20/20 [==============================] - 6s 295ms/step - loss: 0.0021 - val_loss: 9.2949e-04\n",
      "Epoch 17/100\n",
      "20/20 [==============================] - 6s 299ms/step - loss: 0.0011 - val_loss: 6.8842e-04\n",
      "Epoch 18/100\n",
      "20/20 [==============================] - 5s 253ms/step - loss: 9.4578e-04 - val_loss: 8.0581e-04\n",
      "Epoch 19/100\n",
      "20/20 [==============================] - 4s 206ms/step - loss: 8.6128e-04 - val_loss: 7.5249e-04\n",
      "Epoch 20/100\n",
      "20/20 [==============================] - 5s 228ms/step - loss: 8.3775e-04 - val_loss: 8.4884e-04\n",
      "Epoch 21/100\n",
      "20/20 [==============================] - 5s 231ms/step - loss: 8.1853e-04 - val_loss: 9.4372e-04\n",
      "Epoch 22/100\n",
      "20/20 [==============================] - 6s 286ms/step - loss: 8.9583e-04 - val_loss: 0.0010\n",
      "Epoch 23/100\n",
      "20/20 [==============================] - 5s 238ms/step - loss: 9.0444e-04 - val_loss: 8.3491e-04\n",
      "Epoch 24/100\n",
      "20/20 [==============================] - 5s 245ms/step - loss: 7.5649e-04 - val_loss: 7.7472e-04\n",
      "Epoch 25/100\n",
      "20/20 [==============================] - 4s 218ms/step - loss: 7.4285e-04 - val_loss: 8.9619e-04\n",
      "Epoch 26/100\n",
      "20/20 [==============================] - 6s 304ms/step - loss: 7.6858e-04 - val_loss: 9.4046e-04\n",
      "Epoch 27/100\n",
      "20/20 [==============================] - 5s 228ms/step - loss: 8.0474e-04 - val_loss: 6.8339e-04\n",
      "Epoch 28/100\n",
      "20/20 [==============================] - 5s 241ms/step - loss: 8.3037e-04 - val_loss: 7.6316e-04\n",
      "Epoch 29/100\n",
      "20/20 [==============================] - 6s 286ms/step - loss: 7.2271e-04 - val_loss: 7.6448e-04\n",
      "Epoch 30/100\n",
      "20/20 [==============================] - 6s 289ms/step - loss: 6.7870e-04 - val_loss: 8.4125e-04\n",
      "Epoch 31/100\n",
      "20/20 [==============================] - 5s 257ms/step - loss: 6.6318e-04 - val_loss: 7.4951e-04\n",
      "Epoch 32/100\n",
      "20/20 [==============================] - 5s 256ms/step - loss: 6.6697e-04 - val_loss: 6.8817e-04\n",
      "Epoch 33/100\n",
      "20/20 [==============================] - 5s 234ms/step - loss: 7.4430e-04 - val_loss: 8.1139e-04\n",
      "Epoch 34/100\n",
      "20/20 [==============================] - 6s 329ms/step - loss: 6.7038e-04 - val_loss: 7.0196e-04\n",
      "Epoch 35/100\n",
      "20/20 [==============================] - 7s 325ms/step - loss: 6.4371e-04 - val_loss: 8.9096e-04\n",
      "Epoch 36/100\n",
      "20/20 [==============================] - 6s 309ms/step - loss: 6.0338e-04 - val_loss: 8.6659e-04\n",
      "Epoch 37/100\n",
      "20/20 [==============================] - 7s 337ms/step - loss: 8.9782e-04 - val_loss: 6.3529e-04\n",
      "Epoch 38/100\n",
      "20/20 [==============================] - 6s 287ms/step - loss: 7.9263e-04 - val_loss: 6.9568e-04\n",
      "Epoch 39/100\n",
      "20/20 [==============================] - 6s 317ms/step - loss: 9.0188e-04 - val_loss: 5.8178e-04\n",
      "Epoch 40/100\n",
      "20/20 [==============================] - 7s 331ms/step - loss: 8.0007e-04 - val_loss: 5.8594e-04\n",
      "Epoch 41/100\n",
      "20/20 [==============================] - 6s 310ms/step - loss: 5.9778e-04 - val_loss: 6.6674e-04\n",
      "Epoch 42/100\n",
      "20/20 [==============================] - 6s 286ms/step - loss: 5.7403e-04 - val_loss: 6.4590e-04\n",
      "Epoch 43/100\n",
      "20/20 [==============================] - 5s 260ms/step - loss: 5.5969e-04 - val_loss: 6.2074e-04\n",
      "Epoch 44/100\n",
      "20/20 [==============================] - 5s 271ms/step - loss: 5.3925e-04 - val_loss: 7.6412e-04\n",
      "Epoch 45/100\n",
      "20/20 [==============================] - 6s 329ms/step - loss: 5.5845e-04 - val_loss: 5.7482e-04\n",
      "Epoch 46/100\n",
      "20/20 [==============================] - 6s 296ms/step - loss: 5.3133e-04 - val_loss: 6.4106e-04\n",
      "Epoch 47/100\n",
      "20/20 [==============================] - 6s 287ms/step - loss: 5.1525e-04 - val_loss: 6.1138e-04\n",
      "Epoch 48/100\n",
      "20/20 [==============================] - 6s 310ms/step - loss: 5.5793e-04 - val_loss: 6.0392e-04\n",
      "Epoch 49/100\n",
      "20/20 [==============================] - 6s 291ms/step - loss: 6.4207e-04 - val_loss: 7.8732e-04\n",
      "Epoch 50/100\n",
      "20/20 [==============================] - 6s 296ms/step - loss: 5.1760e-04 - val_loss: 8.8938e-04\n",
      "Epoch 51/100\n",
      "20/20 [==============================] - 7s 348ms/step - loss: 5.9837e-04 - val_loss: 6.6500e-04\n",
      "Epoch 52/100\n",
      "20/20 [==============================] - 7s 342ms/step - loss: 4.7125e-04 - val_loss: 5.1896e-04\n",
      "Epoch 53/100\n",
      "20/20 [==============================] - 6s 286ms/step - loss: 5.1533e-04 - val_loss: 7.3495e-04\n",
      "Epoch 54/100\n",
      "20/20 [==============================] - 5s 254ms/step - loss: 6.1057e-04 - val_loss: 4.6050e-04\n",
      "Epoch 55/100\n",
      "20/20 [==============================] - 5s 248ms/step - loss: 5.1080e-04 - val_loss: 3.8160e-04\n",
      "Epoch 56/100\n",
      "20/20 [==============================] - 6s 290ms/step - loss: 4.9670e-04 - val_loss: 6.1784e-04\n",
      "Epoch 57/100\n",
      "20/20 [==============================] - 6s 286ms/step - loss: 5.0966e-04 - val_loss: 3.9684e-04\n",
      "Epoch 58/100\n",
      "20/20 [==============================] - 6s 303ms/step - loss: 4.3952e-04 - val_loss: 5.0130e-04\n",
      "Epoch 59/100\n",
      "20/20 [==============================] - 5s 245ms/step - loss: 4.3918e-04 - val_loss: 5.9342e-04\n",
      "Epoch 60/100\n",
      "20/20 [==============================] - 5s 249ms/step - loss: 4.1961e-04 - val_loss: 4.3413e-04\n",
      "Epoch 61/100\n",
      "20/20 [==============================] - 6s 289ms/step - loss: 4.1043e-04 - val_loss: 4.0033e-04\n",
      "Epoch 62/100\n",
      "20/20 [==============================] - 6s 301ms/step - loss: 3.9661e-04 - val_loss: 4.7578e-04\n",
      "Epoch 63/100\n",
      "20/20 [==============================] - 6s 292ms/step - loss: 4.2366e-04 - val_loss: 5.6133e-04\n",
      "Epoch 64/100\n",
      "20/20 [==============================] - 5s 253ms/step - loss: 5.2504e-04 - val_loss: 4.5577e-04\n",
      "Epoch 65/100\n",
      "20/20 [==============================] - 5s 266ms/step - loss: 3.9215e-04 - val_loss: 7.7014e-04\n",
      "Epoch 66/100\n",
      "20/20 [==============================] - 6s 276ms/step - loss: 8.4187e-04 - val_loss: 3.5249e-04\n",
      "Epoch 67/100\n",
      "20/20 [==============================] - 4s 183ms/step - loss: 5.4603e-04 - val_loss: 4.3969e-04\n",
      "Epoch 68/100\n",
      "20/20 [==============================] - 4s 182ms/step - loss: 4.2712e-04 - val_loss: 3.7368e-04\n",
      "Epoch 69/100\n",
      "20/20 [==============================] - 4s 190ms/step - loss: 3.8116e-04 - val_loss: 4.2745e-04\n",
      "Epoch 70/100\n",
      "20/20 [==============================] - 6s 283ms/step - loss: 3.6207e-04 - val_loss: 4.3757e-04\n",
      "Epoch 71/100\n",
      "20/20 [==============================] - 5s 230ms/step - loss: 3.8356e-04 - val_loss: 3.9740e-04\n",
      "Epoch 72/100\n",
      "20/20 [==============================] - 5s 267ms/step - loss: 3.3977e-04 - val_loss: 3.1111e-04\n",
      "Epoch 73/100\n",
      "20/20 [==============================] - 6s 291ms/step - loss: 3.4405e-04 - val_loss: 3.9602e-04\n",
      "Epoch 74/100\n",
      "20/20 [==============================] - 6s 279ms/step - loss: 4.7721e-04 - val_loss: 4.3766e-04\n",
      "Epoch 75/100\n",
      "20/20 [==============================] - 6s 292ms/step - loss: 4.4122e-04 - val_loss: 5.9713e-04\n",
      "Epoch 76/100\n"
     ]
    },
    {
     "name": "stdout",
     "output_type": "stream",
     "text": [
      "20/20 [==============================] - 6s 320ms/step - loss: 3.7908e-04 - val_loss: 2.9480e-04\n",
      "Epoch 77/100\n",
      "20/20 [==============================] - 6s 275ms/step - loss: 3.3541e-04 - val_loss: 2.8556e-04\n",
      "Epoch 78/100\n",
      "20/20 [==============================] - 6s 321ms/step - loss: 3.2775e-04 - val_loss: 3.1820e-04\n",
      "Epoch 79/100\n",
      "20/20 [==============================] - 6s 286ms/step - loss: 3.8424e-04 - val_loss: 3.2616e-04\n",
      "Epoch 80/100\n",
      "20/20 [==============================] - 6s 288ms/step - loss: 3.2041e-04 - val_loss: 3.0752e-04\n",
      "Epoch 81/100\n",
      "20/20 [==============================] - 4s 227ms/step - loss: 3.1033e-04 - val_loss: 2.8053e-04\n",
      "Epoch 82/100\n",
      "20/20 [==============================] - 6s 305ms/step - loss: 3.4100e-04 - val_loss: 3.7991e-04\n",
      "Epoch 83/100\n",
      "20/20 [==============================] - 4s 195ms/step - loss: 2.9108e-04 - val_loss: 3.9039e-04\n",
      "Epoch 84/100\n",
      "20/20 [==============================] - 5s 272ms/step - loss: 3.5131e-04 - val_loss: 2.8199e-04\n",
      "Epoch 85/100\n",
      "20/20 [==============================] - 5s 263ms/step - loss: 2.8962e-04 - val_loss: 3.6028e-04\n",
      "Epoch 86/100\n",
      "20/20 [==============================] - 4s 216ms/step - loss: 3.0228e-04 - val_loss: 3.9183e-04\n",
      "Epoch 87/100\n",
      "20/20 [==============================] - 6s 291ms/step - loss: 3.0431e-04 - val_loss: 2.8910e-04\n",
      "Epoch 88/100\n",
      "20/20 [==============================] - 7s 333ms/step - loss: 2.7826e-04 - val_loss: 3.4145e-04\n",
      "Epoch 89/100\n",
      "20/20 [==============================] - 6s 287ms/step - loss: 3.1656e-04 - val_loss: 2.5927e-04\n",
      "Epoch 90/100\n",
      "20/20 [==============================] - 5s 241ms/step - loss: 3.1519e-04 - val_loss: 2.6503e-04\n",
      "Epoch 91/100\n",
      "20/20 [==============================] - 5s 260ms/step - loss: 3.0628e-04 - val_loss: 3.2622e-04\n",
      "Epoch 92/100\n",
      "20/20 [==============================] - 5s 237ms/step - loss: 2.7866e-04 - val_loss: 2.4627e-04\n",
      "Epoch 93/100\n",
      "20/20 [==============================] - 5s 255ms/step - loss: 3.1125e-04 - val_loss: 3.9544e-04\n",
      "Epoch 94/100\n",
      "20/20 [==============================] - 5s 245ms/step - loss: 3.1125e-04 - val_loss: 2.9727e-04\n",
      "Epoch 95/100\n",
      "20/20 [==============================] - 6s 293ms/step - loss: 2.6892e-04 - val_loss: 2.6662e-04\n",
      "Epoch 96/100\n",
      "20/20 [==============================] - 6s 314ms/step - loss: 3.0239e-04 - val_loss: 2.5815e-04\n",
      "Epoch 97/100\n",
      "20/20 [==============================] - 6s 295ms/step - loss: 4.3091e-04 - val_loss: 2.3653e-04\n",
      "Epoch 98/100\n",
      "20/20 [==============================] - 6s 305ms/step - loss: 3.8048e-04 - val_loss: 2.3303e-04\n",
      "Epoch 99/100\n",
      "20/20 [==============================] - 5s 252ms/step - loss: 2.7053e-04 - val_loss: 2.7741e-04\n",
      "Epoch 100/100\n",
      "20/20 [==============================] - 5s 243ms/step - loss: 2.5501e-04 - val_loss: 2.3582e-04\n"
     ]
    },
    {
     "data": {
      "text/plain": [
       "<tensorflow.python.keras.callbacks.History at 0x1b3868a62e0>"
      ]
     },
     "execution_count": 18,
     "metadata": {},
     "output_type": "execute_result"
    }
   ],
   "source": [
    "model.fit(x_train, y_train, validation_data = (x_test, y_test), epochs = 100, batch_size = 64, verbose = 1)"
   ]
  },
  {
   "cell_type": "code",
   "execution_count": 19,
   "id": "e2d6a754",
   "metadata": {},
   "outputs": [],
   "source": [
    "train_predict=model.predict(x_train)\n",
    "test_predict=model.predict(x_test)\n",
    "#Transformback to original form\n",
    "train_predict=scaler.inverse_transform(train_predict)\n",
    "test_predict=scaler.inverse_transform(test_predict)"
   ]
  },
  {
   "cell_type": "code",
   "execution_count": 20,
   "id": "bd29aeae",
   "metadata": {},
   "outputs": [
    {
     "data": {
      "text/plain": [
       "166.54961859736977"
      ]
     },
     "execution_count": 20,
     "metadata": {},
     "output_type": "execute_result"
    }
   ],
   "source": [
    "math.sqrt(mean_squared_error(y_train,train_predict))"
   ]
  },
  {
   "cell_type": "code",
   "execution_count": 21,
   "id": "38f422e4",
   "metadata": {},
   "outputs": [
    {
     "data": {
      "text/plain": [
       "115.99587044711835"
      ]
     },
     "execution_count": 21,
     "metadata": {},
     "output_type": "execute_result"
    }
   ],
   "source": [
    "math.sqrt(mean_squared_error(y_test,test_predict))"
   ]
  },
  {
   "cell_type": "code",
   "execution_count": 22,
   "id": "1a18d29b",
   "metadata": {},
   "outputs": [
    {
     "data": {
      "image/png": "[encoded data removed]",
      "text/plain": [
       "<Figure size 432x288 with 1 Axes>"
      ]
     },
     "metadata": {
      "needs_background": "light"
     },
     "output_type": "display_data"
    }
   ],
   "source": [
    "### Plotting \n",
    "# shift train predictions for plotting\n",
    "look_back=100\n",
    "trainPredictPlot = np.empty_like(df1)\n",
    "trainPredictPlot[:, :] = np.nan\n",
    "trainPredictPlot[look_back:len(train_predict)+look_back, :] = train_predict\n",
    "\n",
    "# shift test predictions for plotting\n",
    "testPredictPlot = np.empty_like(df1)\n",
    "testPredictPlot[:, :] = np.nan\n",
    "testPredictPlot[len(train_predict)+(look_back*2)+1:len(df1)-1, :] = test_predict\n",
    "\n",
    "# plot baseline and predictions\n",
    "plt.plot(scaler.inverse_transform(df1))\n",
    "plt.plot(trainPredictPlot)\n",
    "plt.plot(testPredictPlot)\n",
    "plt.show()"
   ]
  }
 ],
 "metadata": {
  "kernelspec": {
   "display_name": "Python 3 (ipykernel)",
   "language": "python",
   "name": "python3"
  },
  "language_info": {
   "codemirror_mode": {
    "name": "ipython",
    "version": 3
   },
   "file_extension": ".py",
   "mimetype": "text/x-python",
   "name": "python",
   "nbconvert_exporter": "python",
   "pygments_lexer": "ipython3",
   "version": "3.9.6"
  }
 },
 "nbformat": 4,
 "nbformat_minor": 5
}
